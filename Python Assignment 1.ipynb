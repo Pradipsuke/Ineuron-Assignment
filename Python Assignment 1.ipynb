{
 "cells": [
  {
   "cell_type": "markdown",
   "id": "1e61dd8a",
   "metadata": {},
   "source": [
    "## Assignment No 1"
   ]
  },
  {
   "attachments": {},
   "cell_type": "markdown",
   "id": "6db548dd",
   "metadata": {},
   "source": [
    "###  1) In the below elements which of them are values or an expression? eg:- values can be integer or string and expressions will be mathematical operators."
   ]
  },
  {
   "cell_type": "raw",
   "id": "bdd8852d",
   "metadata": {},
   "source": [
    "* - expression\n",
    "\n",
    "hello- value\n",
    "\n",
    "-87.8-value\n",
    "\n",
    "/-expression\n",
    "\n",
    "+-expression\n",
    "\n",
    "6-valus \"\"\""
   ]
  },
  {
   "cell_type": "markdown",
   "id": "04516be0",
   "metadata": {},
   "source": [
    "### 2.What is the difference between string and variable?"
   ]
  },
  {
   "cell_type": "raw",
   "id": "76d20439",
   "metadata": {},
   "source": [
    "String- string we can write like \"pradip\", 'pradip' string is nothing but a list of character in order.\n",
    "\n",
    "ex print(\"This is my first program\")\n",
    "\n",
    "variable- A variable is something that hold a value ex. lucky=7\n",
    "\n",
    "print(lucky)"
   ]
  },
  {
   "cell_type": "markdown",
   "id": "c46a6e96",
   "metadata": {},
   "source": [
    "### 3.Describe three different data types."
   ]
  },
  {
   "cell_type": "raw",
   "id": "b16ed86a",
   "metadata": {},
   "source": [
    "integer- numeric value can be interger\n",
    "\n",
    "list- list are used to store multiple items in a single variable\n",
    "\n",
    "complex number- it is represented by complex class specified as (real part)+(imaginary part)"
   ]
  },
  {
   "cell_type": "markdown",
   "id": "bb4a1a64",
   "metadata": {},
   "source": [
    "### 4. What is an expression made up of? What do all expressions do?\n"
   ]
  },
  {
   "cell_type": "raw",
   "id": "6ec885c3",
   "metadata": {},
   "source": [
    "An Expression is a sequence or combination of values, variables, operators and function calls\n",
    "\n",
    "that always produces or returns a result value ex.\n",
    "\n",
    "b=4*7"
   ]
  },
  {
   "cell_type": "markdown",
   "id": "746ed05f",
   "metadata": {},
   "source": [
    "### 5. This assignment statements, like spam = 10. What is the difference between an expression and a statement?"
   ]
  },
  {
   "cell_type": "raw",
   "id": "2d2cc2c0",
   "metadata": {},
   "source": [
    "Expression is made up of values, containers, and mathematical operators\n",
    "\n",
    "and the statement is just like a command that a python interpreter executes like print"
   ]
  },
  {
   "cell_type": "markdown",
   "id": "ec5a0f34",
   "metadata": {},
   "source": [
    "### 6.After running the following code, what does the variable bacon contain?"
   ]
  },
  {
   "cell_type": "code",
   "execution_count": 2,
   "id": "5fad2cd2",
   "metadata": {},
   "outputs": [
    {
     "data": {
      "text/plain": [
       "23"
      ]
     },
     "execution_count": 2,
     "metadata": {},
     "output_type": "execute_result"
    }
   ],
   "source": [
    "bacon = 22\n",
    "bacon + 1"
   ]
  },
  {
   "cell_type": "raw",
   "id": "8326d2c4",
   "metadata": {},
   "source": [
    "Ans- It gives as outpt -23"
   ]
  },
  {
   "cell_type": "markdown",
   "id": "cde874d3",
   "metadata": {},
   "source": [
    "### 7. What should the values of the following two terms be?"
   ]
  },
  {
   "cell_type": "code",
   "execution_count": 5,
   "id": "7ff8740d",
   "metadata": {},
   "outputs": [
    {
     "data": {
      "text/plain": [
       "'spamspamspam'"
      ]
     },
     "execution_count": 5,
     "metadata": {},
     "output_type": "execute_result"
    }
   ],
   "source": [
    "'spam' + 'spamspam'\n",
    "\n",
    "'spam' * 3"
   ]
  },
  {
   "cell_type": "raw",
   "id": "6f456c9b",
   "metadata": {},
   "source": [
    "Ans -spamspamspam"
   ]
  },
  {
   "cell_type": "markdown",
   "id": "2a50ed06",
   "metadata": {},
   "source": [
    "### 8 .Why is eggs a valid variable name while 100 is invalid?"
   ]
  },
  {
   "cell_type": "raw",
   "id": "19dccee4",
   "metadata": {},
   "source": [
    "Because we can't start giving variable an integer name. if we, we should begin with,\n",
    "\n",
    "a string-like alphabet name then integer.e_100 or eggs_100 is valid"
   ]
  },
  {
   "cell_type": "markdown",
   "id": "2b2e120e",
   "metadata": {},
   "source": [
    "### 9. What three functions can be used to get the integer, floating-point number, or string version of a value?"
   ]
  },
  {
   "cell_type": "raw",
   "id": "4c8b8572",
   "metadata": {},
   "source": [
    "str()\n",
    "\n",
    "int()\n",
    "\n",
    "float()"
   ]
  },
  {
   "cell_type": "markdown",
   "id": "5af74d52",
   "metadata": {},
   "source": [
    "### 10. Why does this expression cause an error? How can you fix it?"
   ]
  },
  {
   "cell_type": "raw",
   "id": "db7cdd7a",
   "metadata": {},
   "source": [
    "I have eaten' + 99 + 'burritos'"
   ]
  },
  {
   "cell_type": "raw",
   "id": "1c789a20",
   "metadata": {},
   "source": [
    "Ans- because 99 is an integer it cannot be concatenated with strings if we have to concatenate it we need to do typecasting.\n",
    "\n",
    "str(\"I have eaten' + 99 + 'burritos\")"
   ]
  }
 ],
 "metadata": {
  "kernelspec": {
   "display_name": "Python 3 (ipykernel)",
   "language": "python",
   "name": "python3"
  },
  "language_info": {
   "codemirror_mode": {
    "name": "ipython",
    "version": 3
   },
   "file_extension": ".py",
   "mimetype": "text/x-python",
   "name": "python",
   "nbconvert_exporter": "python",
   "pygments_lexer": "ipython3",
   "version": "3.9.13"
  }
 },
 "nbformat": 4,
 "nbformat_minor": 5
}

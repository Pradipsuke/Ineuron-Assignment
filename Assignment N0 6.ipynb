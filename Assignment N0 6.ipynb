{
 "cells": [
  {
   "cell_type": "markdown",
   "id": "3f767063",
   "metadata": {},
   "source": [
    "### Assignment No 6"
   ]
  },
  {
   "cell_type": "markdown",
   "id": "1f4f3b99",
   "metadata": {},
   "source": [
    "#### 1.What are Escape characters ? and how do you use them ?"
   ]
  },
  {
   "cell_type": "raw",
   "id": "a2ce404b",
   "metadata": {},
   "source": [
    "Ans: Escape characters represent characters in string values that would otherwise be difficult or impossible to type into code. we can use the backslash character to escape a single character or symbol\n",
    "example: \\t, \\n"
   ]
  },
  {
   "cell_type": "code",
   "execution_count": 1,
   "id": "126fec0e",
   "metadata": {},
   "outputs": [
    {
     "name": "stdout",
     "output_type": "stream",
     "text": [
      "my name is\n"
     ]
    }
   ],
   "source": [
    "print(\"my \\\n",
    "name \\\n",
    "is\")"
   ]
  },
  {
   "cell_type": "markdown",
   "id": "3edbf308",
   "metadata": {},
   "source": [
    "#### 2.What do the escape characters n and t stand for ?"
   ]
  },
  {
   "cell_type": "raw",
   "id": "33affa16",
   "metadata": {},
   "source": [
    "Ans: \\n is a newline, \\t is a tab"
   ]
  },
  {
   "cell_type": "markdown",
   "id": "92e10f6f",
   "metadata": {},
   "source": [
    "#### 3.What is the way to include backslash character in a string?"
   ]
  },
  {
   "cell_type": "code",
   "execution_count": 2,
   "id": "01c7aed9",
   "metadata": {},
   "outputs": [
    {
     "name": "stdout",
     "output_type": "stream",
     "text": [
      "its a back slash \\ in a line\n"
     ]
    }
   ],
   "source": [
    "\n",
    "print('its a back slash \\ in a line')\n"
   ]
  },
  {
   "cell_type": "markdown",
   "id": "f1038fec",
   "metadata": {},
   "source": [
    "#### 4.The string \"Howl's Moving Castle\" is a correct value. Why isn't the single quote character in the word Howl's not escaped a problem ?"
   ]
  },
  {
   "cell_type": "raw",
   "id": "1e88562d",
   "metadata": {},
   "source": [
    "The string \"Howl's Moving Castle\" escaped the problem because it is wrapped inside double quotes. if its wrapped inside single quotes then we have to use escape character \\' to show single quote in the final output\n",
    "'Howl\\'s Moving Castle' -> 'Howl's Moving Castle'"
   ]
  },
  {
   "cell_type": "code",
   "execution_count": 3,
   "id": "e2c3843b",
   "metadata": {},
   "outputs": [
    {
     "name": "stdout",
     "output_type": "stream",
     "text": [
      "HowI's Moving Castle\n"
     ]
    }
   ],
   "source": [
    "print(\"HowI's Moving Castle\")\n"
   ]
  },
  {
   "cell_type": "markdown",
   "id": "112c9734",
   "metadata": {},
   "source": [
    "#### 5.How do you write a string of newlines if you don't want to use the n character?"
   ]
  },
  {
   "cell_type": "raw",
   "id": "0e8520b7",
   "metadata": {},
   "source": [
    "Ans: Multiline string allow you to use newlines in string without the \\n escape character"
   ]
  },
  {
   "cell_type": "code",
   "execution_count": 4,
   "id": "734d705e",
   "metadata": {},
   "outputs": [
    {
     "name": "stdout",
     "output_type": "stream",
     "text": [
      "iNeuron full stack\n",
      "Data Science Course\n"
     ]
    }
   ],
   "source": [
    "# Example:\n",
    "a = '''iNeuron full stack\n",
    "Data Science Course'''\n",
    "print(a)"
   ]
  },
  {
   "cell_type": "markdown",
   "id": "14dcff02",
   "metadata": {},
   "source": [
    "#### 6.What are the values of the given expressions ?"
   ]
  },
  {
   "cell_type": "raw",
   "id": "762a3d50",
   "metadata": {},
   "source": [
    "'Hello, world!'[1]\n",
    "'Hello, world!'[0:5]\n",
    "'Hello, world!'[:5]\n",
    "'Hello, world!'[3:]"
   ]
  },
  {
   "cell_type": "code",
   "execution_count": 5,
   "id": "bfe31832",
   "metadata": {},
   "outputs": [
    {
     "data": {
      "text/plain": [
       "'e'"
      ]
     },
     "execution_count": 5,
     "metadata": {},
     "output_type": "execute_result"
    }
   ],
   "source": [
    "'Hello, world!'[1]\n"
   ]
  },
  {
   "cell_type": "code",
   "execution_count": 6,
   "id": "ffc5d470",
   "metadata": {},
   "outputs": [
    {
     "data": {
      "text/plain": [
       "'Hello'"
      ]
     },
     "execution_count": 6,
     "metadata": {},
     "output_type": "execute_result"
    }
   ],
   "source": [
    "'Hello, world!'[0:5]"
   ]
  },
  {
   "cell_type": "code",
   "execution_count": 7,
   "id": "739257b9",
   "metadata": {},
   "outputs": [
    {
     "data": {
      "text/plain": [
       "'Hello'"
      ]
     },
     "execution_count": 7,
     "metadata": {},
     "output_type": "execute_result"
    }
   ],
   "source": [
    "'Hello, world!'[:5]\n"
   ]
  },
  {
   "cell_type": "code",
   "execution_count": 8,
   "id": "7bdf70c0",
   "metadata": {},
   "outputs": [
    {
     "data": {
      "text/plain": [
       "'lo, world!'"
      ]
     },
     "execution_count": 8,
     "metadata": {},
     "output_type": "execute_result"
    }
   ],
   "source": [
    "'Hello, world!'[3:]"
   ]
  },
  {
   "cell_type": "markdown",
   "id": "e98d9ad0",
   "metadata": {},
   "source": [
    "#### 7.What are the values of the following expressions ?"
   ]
  },
  {
   "cell_type": "raw",
   "id": "82cd33a4",
   "metadata": {},
   "source": [
    "Hello'.upper()\n",
    "'Hello'.upper().isupper()\n",
    "'Hello'.upper().lower()"
   ]
  },
  {
   "cell_type": "code",
   "execution_count": 10,
   "id": "b44af97f",
   "metadata": {},
   "outputs": [
    {
     "data": {
      "text/plain": [
       "'HELLO'"
      ]
     },
     "execution_count": 10,
     "metadata": {},
     "output_type": "execute_result"
    }
   ],
   "source": [
    "'Hello'.upper()"
   ]
  },
  {
   "cell_type": "code",
   "execution_count": 13,
   "id": "f0d9dc70",
   "metadata": {},
   "outputs": [
    {
     "data": {
      "text/plain": [
       "True"
      ]
     },
     "execution_count": 13,
     "metadata": {},
     "output_type": "execute_result"
    }
   ],
   "source": [
    "'Hello'.upper().isupper()"
   ]
  },
  {
   "cell_type": "code",
   "execution_count": 12,
   "id": "5dffd2a0",
   "metadata": {},
   "outputs": [
    {
     "data": {
      "text/plain": [
       "'hello'"
      ]
     },
     "execution_count": 12,
     "metadata": {},
     "output_type": "execute_result"
    }
   ],
   "source": [
    "'Hello'.upper().lower()"
   ]
  },
  {
   "cell_type": "markdown",
   "id": "a7fa0105",
   "metadata": {},
   "source": [
    "#### 8.What are the values of the following expressions ?"
   ]
  },
  {
   "cell_type": "raw",
   "id": "0e6978c5",
   "metadata": {},
   "source": [
    "'Remember, remember, the fifith of July.'.split()\n",
    "-'.join('There can only one'.split())"
   ]
  },
  {
   "cell_type": "code",
   "execution_count": 14,
   "id": "263f56df",
   "metadata": {},
   "outputs": [
    {
     "data": {
      "text/plain": [
       "['Remember,', 'remember,', 'the', 'fifth', 'of', 'July.']"
      ]
     },
     "execution_count": 14,
     "metadata": {},
     "output_type": "execute_result"
    }
   ],
   "source": [
    "'Remember, remember, the fifth of July.'.split()\n"
   ]
  },
  {
   "cell_type": "code",
   "execution_count": 17,
   "id": "629b3ee9",
   "metadata": {},
   "outputs": [
    {
     "data": {
      "text/plain": [
       "'There-can-only-one'"
      ]
     },
     "execution_count": 17,
     "metadata": {},
     "output_type": "execute_result"
    }
   ],
   "source": [
    "'-'.join('There can only one'.split())"
   ]
  },
  {
   "cell_type": "markdown",
   "id": "8e6fc0f6",
   "metadata": {},
   "source": [
    "#### 9.What are the methods for right-justifying, left-justifying and centering a string ?"
   ]
  },
  {
   "cell_type": "raw",
   "id": "a3b6e075",
   "metadata": {},
   "source": [
    "Ans: The rjust(),ljust(),center() string methods, respectively\n"
   ]
  },
  {
   "cell_type": "code",
   "execution_count": 18,
   "id": "14c5c28a",
   "metadata": {},
   "outputs": [
    {
     "data": {
      "text/plain": [
       "'Shiva-----'"
      ]
     },
     "execution_count": 18,
     "metadata": {},
     "output_type": "execute_result"
    }
   ],
   "source": [
    "# left justified\n",
    "str =\"Shiva\"\n",
    "str.ljust(10,\"-\")"
   ]
  },
  {
   "cell_type": "code",
   "execution_count": 19,
   "id": "6971d0e2",
   "metadata": {},
   "outputs": [
    {
     "data": {
      "text/plain": [
       "'******************************My name is'"
      ]
     },
     "execution_count": 19,
     "metadata": {},
     "output_type": "execute_result"
    }
   ],
   "source": [
    "# right justified\n",
    "str =\"My name is\"\n",
    "str.rjust(40,'*')"
   ]
  },
  {
   "cell_type": "code",
   "execution_count": 20,
   "id": "af54daf4",
   "metadata": {},
   "outputs": [
    {
     "data": {
      "text/plain": [
       "'***************My name is***************'"
      ]
     },
     "execution_count": 20,
     "metadata": {},
     "output_type": "execute_result"
    }
   ],
   "source": [
    "# center justified\n",
    "str =\"My name is\"\n",
    "str.center(40,'*')"
   ]
  },
  {
   "cell_type": "markdown",
   "id": "f2347acb",
   "metadata": {},
   "source": [
    "#### 10.What is the best way to remove whitespace characters from the start or end ?"
   ]
  },
  {
   "cell_type": "raw",
   "id": "2628bd50",
   "metadata": {},
   "source": [
    "Ans: The lstrip() and rstrip() methods remove whitesapce characters from the left and right ends of a string respectively"
   ]
  },
  {
   "cell_type": "code",
   "execution_count": 21,
   "id": "ca4ac9a9",
   "metadata": {},
   "outputs": [
    {
     "data": {
      "text/plain": [
       "'gfgfgfgfgfgfgf yuyuyuuyuy  '"
      ]
     },
     "execution_count": 21,
     "metadata": {},
     "output_type": "execute_result"
    }
   ],
   "source": [
    "str =\"  gfgfgfgfgfgfgf yuyuyuuyuy  \"\n",
    "str.lstrip()"
   ]
  },
  {
   "cell_type": "code",
   "execution_count": 22,
   "id": "2746234a",
   "metadata": {},
   "outputs": [
    {
     "data": {
      "text/plain": [
       "'  yytytytyyt mmamamam'"
      ]
     },
     "execution_count": 22,
     "metadata": {},
     "output_type": "execute_result"
    }
   ],
   "source": [
    "str =\"  yytytytyyt mmamamam  \"\n",
    "str.rstrip()"
   ]
  },
  {
   "cell_type": "code",
   "execution_count": null,
   "id": "d5910e78",
   "metadata": {},
   "outputs": [],
   "source": []
  }
 ],
 "metadata": {
  "kernelspec": {
   "display_name": "Python 3 (ipykernel)",
   "language": "python",
   "name": "python3"
  },
  "language_info": {
   "codemirror_mode": {
    "name": "ipython",
    "version": 3
   },
   "file_extension": ".py",
   "mimetype": "text/x-python",
   "name": "python",
   "nbconvert_exporter": "python",
   "pygments_lexer": "ipython3",
   "version": "3.9.13"
  }
 },
 "nbformat": 4,
 "nbformat_minor": 5
}

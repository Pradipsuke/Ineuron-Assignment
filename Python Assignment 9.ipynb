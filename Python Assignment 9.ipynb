{
 "cells": [
  {
   "cell_type": "markdown",
   "id": "c86329fb",
   "metadata": {},
   "source": [
    "## Python Basic Assignment - 9"
   ]
  },
  {
   "cell_type": "markdown",
   "id": "cc380f4e",
   "metadata": {},
   "source": [
    "#### 1. To what does a relative path refer?"
   ]
  },
  {
   "cell_type": "raw",
   "id": "37df3254",
   "metadata": {},
   "source": [
    "Ans: The relative path is the path to some file with respect to your current working directory (PWD).\n",
    "For example: if Absolute path to a file called stuff.txt is: C:/users/admin/docs/stuff.txt If my PWD is C:/users/admin/ , then the relative path to stuff.txt would be: docs/stuff.txt\n",
    "Note: PWD + relative path = absolute path"
   ]
  },
  {
   "cell_type": "markdown",
   "id": "1d99224f",
   "metadata": {},
   "source": [
    "#### 2. What does an absolute path start with your operating system?"
   ]
  },
  {
   "cell_type": "raw",
   "id": "bf7a3e93",
   "metadata": {},
   "source": [
    "I am using Windows Operating System with Single Hard drive, so my absolute path starts with C:\\"
   ]
  },
  {
   "cell_type": "markdown",
   "id": "2065e070",
   "metadata": {},
   "source": [
    "#### 3. What do the functions os.getcwd() and os.chdir() do?"
   ]
  },
  {
   "cell_type": "raw",
   "id": "c97051f6",
   "metadata": {},
   "source": [
    "os.getcwd() returns you the current working directory path\n",
    "os.chdir() is used to change the current working directory while running the program"
   ]
  },
  {
   "cell_type": "markdown",
   "id": "bf6333de",
   "metadata": {},
   "source": [
    "#### 4. What are the . and .. folders?"
   ]
  },
  {
   "cell_type": "raw",
   "id": "669ccd6e",
   "metadata": {},
   "source": [
    "single dot means the current folder\n",
    ".. double dot means the parent folder"
   ]
  },
  {
   "cell_type": "markdown",
   "id": "8bf1bc83",
   "metadata": {},
   "source": [
    "#### 5. In C:\\bacon\\eggs\\spam.txt, which part is the dir name, and which part is the base name?"
   ]
  },
  {
   "cell_type": "raw",
   "id": "f910cf52",
   "metadata": {},
   "source": [
    "C:\\bacon\\eggs is the dir name\n",
    "spam.txt is the base name"
   ]
  },
  {
   "cell_type": "markdown",
   "id": "1d455f03",
   "metadata": {},
   "source": [
    "#### 6. What are the three “mode” arguments that can be passed to the open() function?"
   ]
  },
  {
   "cell_type": "raw",
   "id": "9d52c361",
   "metadata": {},
   "source": [
    "The three mode arguments that can be passed to the open() function are:\n",
    "\n",
    "'r' for read mode\n",
    "'w' for write mode\n",
    "'a' for append mode."
   ]
  },
  {
   "cell_type": "markdown",
   "id": "3209bb5f",
   "metadata": {},
   "source": [
    "#### 7. What happens if an existing file is opened in write mode?"
   ]
  },
  {
   "cell_type": "raw",
   "id": "516076ab",
   "metadata": {},
   "source": [
    "If an existing file is opened in write mode, then all the existing content from the file is erased and the new content will be added.\n",
    "This might result in loss of data if you wanted to have both existing and new data to existing in the file"
   ]
  },
  {
   "cell_type": "markdown",
   "id": "0130188a",
   "metadata": {},
   "source": [
    "#### 8. How do you tell the difference between read() and readlines()?"
   ]
  },
  {
   "cell_type": "raw",
   "id": "97f0edfa",
   "metadata": {},
   "source": [
    "The read() method returns the file’s entire contents as a single string value.\n",
    "The readlines() method returns a list of strings, where each string is a line from the file’s contents."
   ]
  },
  {
   "cell_type": "markdown",
   "id": "26f19e0e",
   "metadata": {},
   "source": [
    "#### 9. What data structure does a shelf value resemble?"
   ]
  },
  {
   "cell_type": "raw",
   "id": "9bc0b2ea",
   "metadata": {},
   "source": [
    "A shelf value resembles a dictionary value; it has keys and values, along with keys() and values() methods that work similarly to the dictionary methods of the same names."
   ]
  },
  {
   "cell_type": "code",
   "execution_count": null,
   "id": "f7761386",
   "metadata": {},
   "outputs": [],
   "source": []
  }
 ],
 "metadata": {
  "kernelspec": {
   "display_name": "Python 3 (ipykernel)",
   "language": "python",
   "name": "python3"
  },
  "language_info": {
   "codemirror_mode": {
    "name": "ipython",
    "version": 3
   },
   "file_extension": ".py",
   "mimetype": "text/x-python",
   "name": "python",
   "nbconvert_exporter": "python",
   "pygments_lexer": "ipython3",
   "version": "3.9.13"
  }
 },
 "nbformat": 4,
 "nbformat_minor": 5
}

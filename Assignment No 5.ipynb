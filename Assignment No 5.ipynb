{
 "cells": [
  {
   "cell_type": "markdown",
   "id": "1bf84822",
   "metadata": {},
   "source": [
    "### Assignment No 5"
   ]
  },
  {
   "cell_type": "markdown",
   "id": "703f49e1",
   "metadata": {},
   "source": [
    "#### 1.What does an empty dictionary's code look like?"
   ]
  },
  {
   "cell_type": "raw",
   "id": "9002491d",
   "metadata": {},
   "source": [
    "Ans: An empty dictionary is often represented by two empty curly brackets"
   ]
  },
  {
   "cell_type": "code",
   "execution_count": 2,
   "id": "f9054eb3",
   "metadata": {},
   "outputs": [
    {
     "data": {
      "text/plain": [
       "dict"
      ]
     },
     "execution_count": 2,
     "metadata": {},
     "output_type": "execute_result"
    }
   ],
   "source": [
    "dict = {}\n",
    "type(dict)"
   ]
  },
  {
   "cell_type": "markdown",
   "id": "e434ef56",
   "metadata": {},
   "source": [
    "#### 2.what is the value of dictionary value with key 'foo' and the value 42 ?"
   ]
  },
  {
   "cell_type": "code",
   "execution_count": 3,
   "id": "28935754",
   "metadata": {},
   "outputs": [
    {
     "data": {
      "text/plain": [
       "{'foo': 42}"
      ]
     },
     "execution_count": 3,
     "metadata": {},
     "output_type": "execute_result"
    }
   ],
   "source": [
    "{'foo':42}"
   ]
  },
  {
   "cell_type": "markdown",
   "id": "13855c76",
   "metadata": {},
   "source": [
    "#### 3.What is the most significant distinction between a dictionary and a list?"
   ]
  },
  {
   "cell_type": "raw",
   "id": "5c9be1b2",
   "metadata": {},
   "source": [
    "Most significant difference:\n",
    "List - items in list are Ordered\n",
    "Dictionary : iten in dictionary are unordered"
   ]
  },
  {
   "cell_type": "markdown",
   "id": "449a10e5",
   "metadata": {},
   "source": [
    "#### 4.What happens if you try to access spam ['foo'] if spam is {'bar':100} ?"
   ]
  },
  {
   "cell_type": "raw",
   "id": "4faad84d",
   "metadata": {},
   "source": [
    "Ans: we will get a keyError KeyError: 'foo'"
   ]
  },
  {
   "cell_type": "code",
   "execution_count": 4,
   "id": "562831c8",
   "metadata": {},
   "outputs": [
    {
     "ename": "NameError",
     "evalue": "name 'spam' is not defined",
     "output_type": "error",
     "traceback": [
      "\u001b[1;31m---------------------------------------------------------------------------\u001b[0m",
      "\u001b[1;31mNameError\u001b[0m                                 Traceback (most recent call last)",
      "\u001b[1;32m~\\AppData\\Local\\Temp\\ipykernel_198908\\574763479.py\u001b[0m in \u001b[0;36m<module>\u001b[1;34m\u001b[0m\n\u001b[0;32m      1\u001b[0m \u001b[0mpam\u001b[0m \u001b[1;33m=\u001b[0m \u001b[1;33m{\u001b[0m\u001b[1;34m'bar'\u001b[0m\u001b[1;33m:\u001b[0m\u001b[1;36m100\u001b[0m\u001b[1;33m}\u001b[0m\u001b[1;33m\u001b[0m\u001b[1;33m\u001b[0m\u001b[0m\n\u001b[1;32m----> 2\u001b[1;33m \u001b[0mspam\u001b[0m\u001b[1;33m[\u001b[0m\u001b[1;34m'foo'\u001b[0m\u001b[1;33m]\u001b[0m\u001b[1;33m\u001b[0m\u001b[1;33m\u001b[0m\u001b[0m\n\u001b[0m\u001b[0;32m      3\u001b[0m \u001b[1;31m#This will give us key error\u001b[0m\u001b[1;33m\u001b[0m\u001b[1;33m\u001b[0m\u001b[0m\n",
      "\u001b[1;31mNameError\u001b[0m: name 'spam' is not defined"
     ]
    }
   ],
   "source": [
    "pam = {'bar':100}\n",
    "spam['foo']\n",
    "#This will give us key error"
   ]
  },
  {
   "cell_type": "markdown",
   "id": "716b7cb0",
   "metadata": {},
   "source": [
    "#### 5.if a dictionary is stored in spam,what is the difference between the expressions 'cat' in spam and 'cat' in spam.keys() ?"
   ]
  },
  {
   "cell_type": "raw",
   "id": "3e22b46f",
   "metadata": {},
   "source": [
    "Ans: There is no difference . The operator checks whether a value exits as a key in the dictionary or not"
   ]
  },
  {
   "cell_type": "code",
   "execution_count": 5,
   "id": "ecb741a1",
   "metadata": {},
   "outputs": [
    {
     "data": {
      "text/plain": [
       "True"
      ]
     },
     "execution_count": 5,
     "metadata": {},
     "output_type": "execute_result"
    }
   ],
   "source": [
    "spam ={'cat':100}\n",
    "'cat' in spam"
   ]
  },
  {
   "cell_type": "code",
   "execution_count": 7,
   "id": "8ee6a8bc",
   "metadata": {},
   "outputs": [
    {
     "data": {
      "text/plain": [
       "True"
      ]
     },
     "execution_count": 7,
     "metadata": {},
     "output_type": "execute_result"
    }
   ],
   "source": [
    "'cat' in spam.keys()\n",
    "#There is no differnce, both check if 'cat' is key of the dictionary and if its a key, returns True."
   ]
  },
  {
   "cell_type": "markdown",
   "id": "a4be47c8",
   "metadata": {},
   "source": [
    "#### 6.if a dictionary is stored in spam,what is the difference between the expressions 'cat' in spam and 'cat' in spam.values() ?"
   ]
  },
  {
   "cell_type": "raw",
   "id": "42ba7b2b",
   "metadata": {},
   "source": [
    "Ans:'cat' in spam checks whether there is a 'cat' key in the dictionary, while 'cat' in spam.values() checks whether there is a value 'cat' for one of the keys in spam."
   ]
  },
  {
   "cell_type": "code",
   "execution_count": 8,
   "id": "7dbd12f9",
   "metadata": {},
   "outputs": [
    {
     "data": {
      "text/plain": [
       "True"
      ]
     },
     "execution_count": 8,
     "metadata": {},
     "output_type": "execute_result"
    }
   ],
   "source": [
    "spam ={'cat':100}\n",
    "'cat' in spam"
   ]
  },
  {
   "cell_type": "code",
   "execution_count": 9,
   "id": "70ce06fc",
   "metadata": {},
   "outputs": [
    {
     "data": {
      "text/plain": [
       "False"
      ]
     },
     "execution_count": 9,
     "metadata": {},
     "output_type": "execute_result"
    }
   ],
   "source": [
    "spam ={'cat':100}\n",
    "'cat' in spam.values()\n",
    "\n",
    "#'cat' in spam checks whether there is a 'cat' key in the dictionary\n",
    "#'cat' in spam.values() checks whether there is a value 'cat' for one of the keys in spam.\n",
    "     "
   ]
  },
  {
   "cell_type": "markdown",
   "id": "29cfe29c",
   "metadata": {},
   "source": [
    "#### 7.what is a shortcut for the following code ?"
   ]
  },
  {
   "cell_type": "raw",
   "id": "561c863f",
   "metadata": {},
   "source": [
    "spam ={'cat':100}\n",
    "spam.setdefault('color','black')\n",
    "spam\n"
   ]
  },
  {
   "cell_type": "code",
   "execution_count": 10,
   "id": "7705359b",
   "metadata": {},
   "outputs": [
    {
     "data": {
      "text/plain": [
       "{'cat': 100, 'color': 'black'}"
      ]
     },
     "execution_count": 10,
     "metadata": {},
     "output_type": "execute_result"
    }
   ],
   "source": [
    "spam ={'cat':100}\n",
    "spam.setdefault('color','black')\n",
    "spam\n"
   ]
  },
  {
   "cell_type": "markdown",
   "id": "2c04838e",
   "metadata": {},
   "source": [
    "#### 8.How do you 'pretty print' dictionary values using which modules and function ?"
   ]
  },
  {
   "cell_type": "raw",
   "id": "b72852d8",
   "metadata": {},
   "source": [
    "Ans: we can pretty print a dictionary using three functions\n",
    "\n",
    "by using pprint() function of pprint module\n",
    "Note: pprint() function doesnot prettify nested dictionaries\n",
    "by using dumps() method of json module\n",
    "by using dumps() method of yaml module"
   ]
  },
  {
   "cell_type": "code",
   "execution_count": 11,
   "id": "d0c7a7f9",
   "metadata": {},
   "outputs": [],
   "source": [
    "import pprint\n",
    "dct = [ {'Name': 'Shiva', 'Age': '23', 'Country': 'India'},\n",
    "  {'Name': 'Anna', 'Age': '44', 'Country': 'China'},\n",
    "  {'Name': 'Joe', 'Age': '29', 'Country': 'UK'},\n",
    "  {'Name': 'Chumlee', 'Age': '35', 'Country': 'USA'}\n",
    "]\n",
    "     "
   ]
  },
  {
   "cell_type": "code",
   "execution_count": 12,
   "id": "a6274c05",
   "metadata": {},
   "outputs": [
    {
     "name": "stdout",
     "output_type": "stream",
     "text": [
      "[{'Age': '23', 'Country': 'India', 'Name': 'Shiva'},\n",
      " {'Age': '44', 'Country': 'China', 'Name': 'Anna'},\n",
      " {'Age': '29', 'Country': 'UK', 'Name': 'Joe'},\n",
      " {'Age': '35', 'Country': 'USA', 'Name': 'Chumlee'}]\n"
     ]
    }
   ],
   "source": [
    "# printing with pprint()\n",
    "pprint.pprint(dct)\n",
    "     "
   ]
  },
  {
   "cell_type": "code",
   "execution_count": null,
   "id": "432e27dd",
   "metadata": {},
   "outputs": [],
   "source": []
  }
 ],
 "metadata": {
  "kernelspec": {
   "display_name": "Python 3 (ipykernel)",
   "language": "python",
   "name": "python3"
  },
  "language_info": {
   "codemirror_mode": {
    "name": "ipython",
    "version": 3
   },
   "file_extension": ".py",
   "mimetype": "text/x-python",
   "name": "python",
   "nbconvert_exporter": "python",
   "pygments_lexer": "ipython3",
   "version": "3.9.13"
  }
 },
 "nbformat": 4,
 "nbformat_minor": 5
}
